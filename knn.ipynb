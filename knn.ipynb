{
  "cells": [
    {
      "cell_type": "markdown",
      "metadata": {},
      "source": [
        "# Adalet Veyis Turgut\n",
        "# Ufuk Arslan\n",
        "# Zuhal Didem Aytaç"
      ]
    },
    {
      "cell_type": "code",
      "execution_count": null,
      "metadata": {
        "id": "076vyie4yykN"
      },
      "outputs": [],
      "source": [
        "import string\n",
        "from typing import List\n",
        "import pandas as pd\n",
        "import numpy as np\n",
        "import nltk\n",
        "from nltk.corpus import stopwords\n",
        "from nltk.stem import WordNetLemmatizer\n",
        "from nltk import pos_tag\n",
        "from sklearn.preprocessing import StandardScaler\n",
        "from sklearn.feature_extraction.text import CountVectorizer, TfidfTransformer\n",
        "from sklearn.preprocessing import MultiLabelBinarizer\n",
        "from sklearn.multioutput import MultiOutputClassifier\n",
        "from sklearn.metrics import multilabel_confusion_matrix, label_ranking_average_precision_score\n",
        "from sklearn.neighbors import KNeighborsClassifier"
      ]
    },
    {
      "cell_type": "code",
      "execution_count": null,
      "metadata": {
        "id": "IKvCIrm9zBtz"
      },
      "outputs": [],
      "source": [
        "# case-fold, punctuation removal, stop-word removal\n",
        "def preprocess_text(text: str):\n",
        "    text = str(text)\n",
        "    text = text.casefold()\n",
        "    text = \" \".join(text.split())\n",
        "    text = text.translate(str.maketrans('', '', string.punctuation))\n",
        "    return text\n",
        "\n",
        "def clean_and_tokenize(text: str, stop_words: List[str]):\n",
        "    tokens = [word for word in text.split() if word not in stop_words]\n",
        "    return tokens\n",
        "\n",
        "# Lemmatization is converting the word to its base form or lemma by removing affixes from the inflected words.\n",
        "def lemmatization(text: str):\n",
        "    result = []\n",
        "    wordnet = WordNetLemmatizer()\n",
        "    for token, tag in pos_tag(text):\n",
        "        pos = tag[0].lower()\n",
        "        if pos not in ['a', 'r', 'n', 'v']:\n",
        "            pos = 'n'\n",
        "        result.append(wordnet.lemmatize(token, pos))\n",
        "    return result\n",
        "\n",
        "# Stemming also reduces the words to their root forms but unlike lemmatization, the stem itself may not a valid word\n",
        "def stemming(text):\n",
        "    porter = nltk.PorterStemmer()\n",
        "    return \" \".join([porter.stem(word) for word in text.split()])\n",
        "\n",
        "\n",
        "def find_frequent_words(col):\n",
        "    words = []\n",
        "    for word_list in col.values:\n",
        "        words.extend(word_list)\n",
        "    fdist = nltk.FreqDist(words)\n",
        "    res = fdist.most_common(10)\n",
        "    return [word[0] for word in res]\n",
        "\n",
        "\n",
        "def remove_frequent_words(tokens: List[str], frequent_words: List[str]):\n",
        "    tokens = [word for word in tokens if word not in frequent_words]\n",
        "    return tokens"
      ]
    },
    {
      "cell_type": "code",
      "execution_count": null,
      "metadata": {
        "colab": {
          "base_uri": "https://localhost:8080/",
          "height": 403
        },
        "id": "lDWvtgMTzBvz",
        "outputId": "23e47c4e-6b2c-44fe-efa5-65022fe04d97"
      },
      "outputs": [
        {
          "name": "stdout",
          "output_type": "stream",
          "text": [
            "Downloading...\n",
            "From: https://drive.google.com/uc?id=1ddjOCKOpVNe55Otrz4p1lWQMU7fPCbO4\n",
            "To: /content/BC7-LitCovid-Dev.csv\n",
            "100% 11.1M/11.1M [00:00<00:00, 41.8MB/s]\n",
            "Downloading...\n",
            "From: https://drive.google.com/uc?id=1P9aEeivdMockjdGfH4dwhJoFQgLS4JhY\n",
            "To: /content/BC7-LitCovid-Train.csv\n",
            "100% 44.1M/44.1M [00:00<00:00, 94.9MB/s]\n",
            "/usr/lib/python3.7/runpy.py:125: RuntimeWarning: 'nltk.downloader' found in sys.modules after import of package 'nltk', but prior to execution of 'nltk.downloader'; this may result in unpredictable behaviour\n",
            "  warn(RuntimeWarning(msg))\n",
            "[nltk_data] Downloading package stopwords to /root/nltk_data...\n",
            "[nltk_data]   Unzipping corpora/stopwords.zip.\n"
          ]
        },
        {
          "data": {
            "text/html": [
              "\n",
              "  <div id=\"df-854cb651-d0c3-40e7-8ff3-20beceb5125e\">\n",
              "    <div class=\"colab-df-container\">\n",
              "      <div>\n",
              "<style scoped>\n",
              "    .dataframe tbody tr th:only-of-type {\n",
              "        vertical-align: middle;\n",
              "    }\n",
              "\n",
              "    .dataframe tbody tr th {\n",
              "        vertical-align: top;\n",
              "    }\n",
              "\n",
              "    .dataframe thead th {\n",
              "        text-align: right;\n",
              "    }\n",
              "</style>\n",
              "<table border=\"1\" class=\"dataframe\">\n",
              "  <thead>\n",
              "    <tr style=\"text-align: right;\">\n",
              "      <th></th>\n",
              "      <th>journal</th>\n",
              "      <th>title</th>\n",
              "      <th>abstract</th>\n",
              "      <th>keywords</th>\n",
              "      <th>pub_type</th>\n",
              "      <th>authors</th>\n",
              "      <th>doi</th>\n",
              "      <th>label</th>\n",
              "    </tr>\n",
              "  </thead>\n",
              "  <tbody>\n",
              "    <tr>\n",
              "      <th>count</th>\n",
              "      <td>6239</td>\n",
              "      <td>6239</td>\n",
              "      <td>6239</td>\n",
              "      <td>4754</td>\n",
              "      <td>6239</td>\n",
              "      <td>6212</td>\n",
              "      <td>6100</td>\n",
              "      <td>6239</td>\n",
              "    </tr>\n",
              "    <tr>\n",
              "      <th>unique</th>\n",
              "      <td>2132</td>\n",
              "      <td>6239</td>\n",
              "      <td>6234</td>\n",
              "      <td>4742</td>\n",
              "      <td>170</td>\n",
              "      <td>6194</td>\n",
              "      <td>6100</td>\n",
              "      <td>103</td>\n",
              "    </tr>\n",
              "    <tr>\n",
              "      <th>top</th>\n",
              "      <td>J Med Virol</td>\n",
              "      <td>Infectious Diseases as Socio-Spatial Processes...</td>\n",
              "      <td>Abstract:</td>\n",
              "      <td>infectious diseases;respiratory medicine</td>\n",
              "      <td>Journal Article</td>\n",
              "      <td>Siddiqui, Ruqaiyyah;Khan, Naveed Ahmed</td>\n",
              "      <td>10.3390/jcm9092943</td>\n",
              "      <td>Prevention</td>\n",
              "    </tr>\n",
              "    <tr>\n",
              "      <th>freq</th>\n",
              "      <td>103</td>\n",
              "      <td>1</td>\n",
              "      <td>3</td>\n",
              "      <td>2</td>\n",
              "      <td>3056</td>\n",
              "      <td>3</td>\n",
              "      <td>1</td>\n",
              "      <td>2256</td>\n",
              "    </tr>\n",
              "  </tbody>\n",
              "</table>\n",
              "</div>\n",
              "      <button class=\"colab-df-convert\" onclick=\"convertToInteractive('df-854cb651-d0c3-40e7-8ff3-20beceb5125e')\"\n",
              "              title=\"Convert this dataframe to an interactive table.\"\n",
              "              style=\"display:none;\">\n",
              "        \n",
              "  <svg xmlns=\"http://www.w3.org/2000/svg\" height=\"24px\"viewBox=\"0 0 24 24\"\n",
              "       width=\"24px\">\n",
              "    <path d=\"M0 0h24v24H0V0z\" fill=\"none\"/>\n",
              "    <path d=\"M18.56 5.44l.94 2.06.94-2.06 2.06-.94-2.06-.94-.94-2.06-.94 2.06-2.06.94zm-11 1L8.5 8.5l.94-2.06 2.06-.94-2.06-.94L8.5 2.5l-.94 2.06-2.06.94zm10 10l.94 2.06.94-2.06 2.06-.94-2.06-.94-.94-2.06-.94 2.06-2.06.94z\"/><path d=\"M17.41 7.96l-1.37-1.37c-.4-.4-.92-.59-1.43-.59-.52 0-1.04.2-1.43.59L10.3 9.45l-7.72 7.72c-.78.78-.78 2.05 0 2.83L4 21.41c.39.39.9.59 1.41.59.51 0 1.02-.2 1.41-.59l7.78-7.78 2.81-2.81c.8-.78.8-2.07 0-2.86zM5.41 20L4 18.59l7.72-7.72 1.47 1.35L5.41 20z\"/>\n",
              "  </svg>\n",
              "      </button>\n",
              "      \n",
              "  <style>\n",
              "    .colab-df-container {\n",
              "      display:flex;\n",
              "      flex-wrap:wrap;\n",
              "      gap: 12px;\n",
              "    }\n",
              "\n",
              "    .colab-df-convert {\n",
              "      background-color: #E8F0FE;\n",
              "      border: none;\n",
              "      border-radius: 50%;\n",
              "      cursor: pointer;\n",
              "      display: none;\n",
              "      fill: #1967D2;\n",
              "      height: 32px;\n",
              "      padding: 0 0 0 0;\n",
              "      width: 32px;\n",
              "    }\n",
              "\n",
              "    .colab-df-convert:hover {\n",
              "      background-color: #E2EBFA;\n",
              "      box-shadow: 0px 1px 2px rgba(60, 64, 67, 0.3), 0px 1px 3px 1px rgba(60, 64, 67, 0.15);\n",
              "      fill: #174EA6;\n",
              "    }\n",
              "\n",
              "    [theme=dark] .colab-df-convert {\n",
              "      background-color: #3B4455;\n",
              "      fill: #D2E3FC;\n",
              "    }\n",
              "\n",
              "    [theme=dark] .colab-df-convert:hover {\n",
              "      background-color: #434B5C;\n",
              "      box-shadow: 0px 1px 3px 1px rgba(0, 0, 0, 0.15);\n",
              "      filter: drop-shadow(0px 1px 2px rgba(0, 0, 0, 0.3));\n",
              "      fill: #FFFFFF;\n",
              "    }\n",
              "  </style>\n",
              "\n",
              "      <script>\n",
              "        const buttonEl =\n",
              "          document.querySelector('#df-854cb651-d0c3-40e7-8ff3-20beceb5125e button.colab-df-convert');\n",
              "        buttonEl.style.display =\n",
              "          google.colab.kernel.accessAllowed ? 'block' : 'none';\n",
              "\n",
              "        async function convertToInteractive(key) {\n",
              "          const element = document.querySelector('#df-854cb651-d0c3-40e7-8ff3-20beceb5125e');\n",
              "          const dataTable =\n",
              "            await google.colab.kernel.invokeFunction('convertToInteractive',\n",
              "                                                     [key], {});\n",
              "          if (!dataTable) return;\n",
              "\n",
              "          const docLinkHtml = 'Like what you see? Visit the ' +\n",
              "            '<a target=\"_blank\" href=https://colab.research.google.com/notebooks/data_table.ipynb>data table notebook</a>'\n",
              "            + ' to learn more about interactive tables.';\n",
              "          element.innerHTML = '';\n",
              "          dataTable['output_type'] = 'display_data';\n",
              "          await google.colab.output.renderOutput(dataTable, element);\n",
              "          const docLink = document.createElement('div');\n",
              "          docLink.innerHTML = docLinkHtml;\n",
              "          element.appendChild(docLink);\n",
              "        }\n",
              "      </script>\n",
              "    </div>\n",
              "  </div>\n",
              "  "
            ],
            "text/plain": [
              "            journal  ...       label\n",
              "count          6239  ...        6239\n",
              "unique         2132  ...         103\n",
              "top     J Med Virol  ...  Prevention\n",
              "freq            103  ...        2256\n",
              "\n",
              "[4 rows x 8 columns]"
            ]
          },
          "execution_count": 3,
          "metadata": {},
          "output_type": "execute_result"
        }
      ],
      "source": [
        "# obtain train & test datasets\n",
        "!gdown --id 1ddjOCKOpVNe55Otrz4p1lWQMU7fPCbO4\n",
        "!gdown --id 1P9aEeivdMockjdGfH4dwhJoFQgLS4JhY \n",
        "\n",
        "# download stopwords to the system\n",
        "!python -m nltk.downloader stopwords\n",
        "\n",
        "df_dev = pd.read_csv('BC7-LitCovid-Dev.csv', index_col='pmid')\n",
        "df_train = pd.read_csv('BC7-LitCovid-Train.csv', index_col='pmid')\n",
        "\n",
        "# df_train.describe(include='all')\n",
        "df_dev.describe(include = 'all')"
      ]
    },
    {
      "cell_type": "code",
      "execution_count": null,
      "metadata": {
        "colab": {
          "base_uri": "https://localhost:8080/",
          "height": 175
        },
        "id": "eWpN8zwFzBxr",
        "outputId": "0dfa48d3-eebd-47cb-8ec5-2a9c449021ca"
      },
      "outputs": [
        {
          "data": {
            "text/html": [
              "\n",
              "  <div id=\"df-929fea2d-dc3e-44f9-af09-2bf98d56786a\">\n",
              "    <div class=\"colab-df-container\">\n",
              "      <div>\n",
              "<style scoped>\n",
              "    .dataframe tbody tr th:only-of-type {\n",
              "        vertical-align: middle;\n",
              "    }\n",
              "\n",
              "    .dataframe tbody tr th {\n",
              "        vertical-align: top;\n",
              "    }\n",
              "\n",
              "    .dataframe thead th {\n",
              "        text-align: right;\n",
              "    }\n",
              "</style>\n",
              "<table border=\"1\" class=\"dataframe\">\n",
              "  <thead>\n",
              "    <tr style=\"text-align: right;\">\n",
              "      <th></th>\n",
              "      <th>journal</th>\n",
              "      <th>title</th>\n",
              "      <th>abstract</th>\n",
              "      <th>keywords</th>\n",
              "      <th>pub_type</th>\n",
              "      <th>authors</th>\n",
              "      <th>doi</th>\n",
              "      <th>label</th>\n",
              "    </tr>\n",
              "  </thead>\n",
              "  <tbody>\n",
              "    <tr>\n",
              "      <th>count</th>\n",
              "      <td>18968</td>\n",
              "      <td>18968</td>\n",
              "      <td>18968</td>\n",
              "      <td>18968</td>\n",
              "      <td>18968</td>\n",
              "      <td>18912</td>\n",
              "      <td>18759</td>\n",
              "      <td>18968</td>\n",
              "    </tr>\n",
              "    <tr>\n",
              "      <th>unique</th>\n",
              "      <td>3014</td>\n",
              "      <td>18895</td>\n",
              "      <td>18932</td>\n",
              "      <td>18595</td>\n",
              "      <td>270</td>\n",
              "      <td>18704</td>\n",
              "      <td>18749</td>\n",
              "      <td>165</td>\n",
              "    </tr>\n",
              "    <tr>\n",
              "      <th>top</th>\n",
              "      <td>J Med Virol</td>\n",
              "      <td>pregnanc</td>\n",
              "      <td>2019 respiratori tract caus newli emerg first ...</td>\n",
              "      <td></td>\n",
              "      <td>Journal Article</td>\n",
              "      <td>Suwanwongse, Kulachanya;Shabarek, Nehad</td>\n",
              "      <td>10.1016/j.jstrokecerebrovasdis.2020.104949</td>\n",
              "      <td>[Prevention]</td>\n",
              "    </tr>\n",
              "    <tr>\n",
              "      <th>freq</th>\n",
              "      <td>298</td>\n",
              "      <td>4</td>\n",
              "      <td>3</td>\n",
              "      <td>38</td>\n",
              "      <td>9372</td>\n",
              "      <td>5</td>\n",
              "      <td>2</td>\n",
              "      <td>6756</td>\n",
              "    </tr>\n",
              "  </tbody>\n",
              "</table>\n",
              "</div>\n",
              "      <button class=\"colab-df-convert\" onclick=\"convertToInteractive('df-929fea2d-dc3e-44f9-af09-2bf98d56786a')\"\n",
              "              title=\"Convert this dataframe to an interactive table.\"\n",
              "              style=\"display:none;\">\n",
              "        \n",
              "  <svg xmlns=\"http://www.w3.org/2000/svg\" height=\"24px\"viewBox=\"0 0 24 24\"\n",
              "       width=\"24px\">\n",
              "    <path d=\"M0 0h24v24H0V0z\" fill=\"none\"/>\n",
              "    <path d=\"M18.56 5.44l.94 2.06.94-2.06 2.06-.94-2.06-.94-.94-2.06-.94 2.06-2.06.94zm-11 1L8.5 8.5l.94-2.06 2.06-.94-2.06-.94L8.5 2.5l-.94 2.06-2.06.94zm10 10l.94 2.06.94-2.06 2.06-.94-2.06-.94-.94-2.06-.94 2.06-2.06.94z\"/><path d=\"M17.41 7.96l-1.37-1.37c-.4-.4-.92-.59-1.43-.59-.52 0-1.04.2-1.43.59L10.3 9.45l-7.72 7.72c-.78.78-.78 2.05 0 2.83L4 21.41c.39.39.9.59 1.41.59.51 0 1.02-.2 1.41-.59l7.78-7.78 2.81-2.81c.8-.78.8-2.07 0-2.86zM5.41 20L4 18.59l7.72-7.72 1.47 1.35L5.41 20z\"/>\n",
              "  </svg>\n",
              "      </button>\n",
              "      \n",
              "  <style>\n",
              "    .colab-df-container {\n",
              "      display:flex;\n",
              "      flex-wrap:wrap;\n",
              "      gap: 12px;\n",
              "    }\n",
              "\n",
              "    .colab-df-convert {\n",
              "      background-color: #E8F0FE;\n",
              "      border: none;\n",
              "      border-radius: 50%;\n",
              "      cursor: pointer;\n",
              "      display: none;\n",
              "      fill: #1967D2;\n",
              "      height: 32px;\n",
              "      padding: 0 0 0 0;\n",
              "      width: 32px;\n",
              "    }\n",
              "\n",
              "    .colab-df-convert:hover {\n",
              "      background-color: #E2EBFA;\n",
              "      box-shadow: 0px 1px 2px rgba(60, 64, 67, 0.3), 0px 1px 3px 1px rgba(60, 64, 67, 0.15);\n",
              "      fill: #174EA6;\n",
              "    }\n",
              "\n",
              "    [theme=dark] .colab-df-convert {\n",
              "      background-color: #3B4455;\n",
              "      fill: #D2E3FC;\n",
              "    }\n",
              "\n",
              "    [theme=dark] .colab-df-convert:hover {\n",
              "      background-color: #434B5C;\n",
              "      box-shadow: 0px 1px 3px 1px rgba(0, 0, 0, 0.15);\n",
              "      filter: drop-shadow(0px 1px 2px rgba(0, 0, 0, 0.3));\n",
              "      fill: #FFFFFF;\n",
              "    }\n",
              "  </style>\n",
              "\n",
              "      <script>\n",
              "        const buttonEl =\n",
              "          document.querySelector('#df-929fea2d-dc3e-44f9-af09-2bf98d56786a button.colab-df-convert');\n",
              "        buttonEl.style.display =\n",
              "          google.colab.kernel.accessAllowed ? 'block' : 'none';\n",
              "\n",
              "        async function convertToInteractive(key) {\n",
              "          const element = document.querySelector('#df-929fea2d-dc3e-44f9-af09-2bf98d56786a');\n",
              "          const dataTable =\n",
              "            await google.colab.kernel.invokeFunction('convertToInteractive',\n",
              "                                                     [key], {});\n",
              "          if (!dataTable) return;\n",
              "\n",
              "          const docLinkHtml = 'Like what you see? Visit the ' +\n",
              "            '<a target=\"_blank\" href=https://colab.research.google.com/notebooks/data_table.ipynb>data table notebook</a>'\n",
              "            + ' to learn more about interactive tables.';\n",
              "          element.innerHTML = '';\n",
              "          dataTable['output_type'] = 'display_data';\n",
              "          await google.colab.output.renderOutput(dataTable, element);\n",
              "          const docLink = document.createElement('div');\n",
              "          docLink.innerHTML = docLinkHtml;\n",
              "          element.appendChild(docLink);\n",
              "        }\n",
              "      </script>\n",
              "    </div>\n",
              "  </div>\n",
              "  "
            ],
            "text/plain": [
              "            journal  ...         label\n",
              "count         18968  ...         18968\n",
              "unique         3014  ...           165\n",
              "top     J Med Virol  ...  [Prevention]\n",
              "freq            298  ...          6756\n",
              "\n",
              "[4 rows x 8 columns]"
            ]
          },
          "execution_count": 4,
          "metadata": {},
          "output_type": "execute_result"
        }
      ],
      "source": [
        "# PREPROCESS TRAIN DATA\n",
        "df_train.dropna(subset=['title', 'abstract', 'keywords'],inplace=True)  \n",
        "stop_words = stopwords.words('english')\n",
        "df_train['keywords'] = df_train['keywords'].apply(lambda x: x.split(';'))\n",
        "df_train['label'] = df_train['label'].apply(lambda x: x.split(';'))\n",
        "for col in ['title', 'abstract', 'keywords']:\n",
        "    df_train[col] = df_train[col].apply(preprocess_text)\n",
        "    df_train[col] = df_train[col].apply(stemming)  # todo either lemmatization or stemming\n",
        "    df_train[col] = df_train[col].apply(lambda x: clean_and_tokenize(x, stop_words))\n",
        "    frequent_words = find_frequent_words(df_train[col])\n",
        "    df_train[col] = df_train[col].apply(lambda x: remove_frequent_words(x, frequent_words))\n",
        "    df_train[col] = df_train[col].apply(lambda x: ' '.join(x))\n",
        "df_train.describe(include='all')"
      ]
    },
    {
      "cell_type": "code",
      "execution_count": null,
      "metadata": {
        "colab": {
          "base_uri": "https://localhost:8080/"
        },
        "id": "3g_th2CyCBSn",
        "outputId": "bd243a6b-d0a3-403e-da6c-df40612da597"
      },
      "outputs": [
        {
          "name": "stdout",
          "output_type": "stream",
          "text": [
            "<class 'pandas.core.frame.DataFrame'>\n",
            "Int64Index: 18968 entries, 32519164 to 32389144\n",
            "Data columns (total 8 columns):\n",
            " #   Column    Non-Null Count  Dtype \n",
            "---  ------    --------------  ----- \n",
            " 0   journal   18968 non-null  object\n",
            " 1   title     18968 non-null  object\n",
            " 2   abstract  18968 non-null  object\n",
            " 3   keywords  18968 non-null  object\n",
            " 4   pub_type  18968 non-null  object\n",
            " 5   authors   18912 non-null  object\n",
            " 6   doi       18759 non-null  object\n",
            " 7   label     18968 non-null  object\n",
            "dtypes: object(8)\n",
            "memory usage: 1.3+ MB\n",
            "Treatment 6710\n",
            "Diagnosis 4695\n",
            "Prevention 8300\n",
            "Mechanism 3518\n",
            "Transmission 841\n",
            "Epidemic Forecasting 519\n",
            "Case Report 1571\n",
            "\n",
            "Treatment 933809\n",
            "Diagnosis 679674\n",
            "Prevention 1110330\n",
            "Mechanism 458034\n",
            "Transmission 109585\n",
            "Epidemic Forecasting 68173\n",
            "Case Report 145631\n"
          ]
        }
      ],
      "source": [
        "# STATISTICS\n",
        "df_train.info()\n",
        "classes = {'Treatment': 0, 'Diagnosis':0, 'Prevention':0, 'Mechanism':0, 'Transmission':0, 'Epidemic Forecasting':0,  'Case Report':0}\n",
        "classes_words = {'Treatment': 0, 'Diagnosis':0, 'Prevention':0, 'Mechanism':0, 'Transmission':0, 'Epidemic Forecasting':0,  'Case Report':0}\n",
        "i = 0\n",
        "for index, row in df_train.iterrows():\n",
        "  labels = row['label']\n",
        "  for label in labels:\n",
        "    classes[label] += 1\n",
        "    classes_words[label] += (str(row['title']) + \" \" + str(row['abstract']) +\" \" + str(row['keywords'])).count(\" \")\n",
        "\n",
        "for c, count in classes.items():\n",
        "  print(c, count)\n",
        "print()\n",
        "for c, count in classes_words.items():\n",
        "  print(c, count) "
      ]
    },
    {
      "cell_type": "code",
      "execution_count": null,
      "metadata": {
        "colab": {
          "base_uri": "https://localhost:8080/"
        },
        "id": "9BJ3CetJzYQ1",
        "outputId": "6f8f53de-2ff0-4430-8bbb-bc4fb6841ec8"
      },
      "outputs": [
        {
          "name": "stdout",
          "output_type": "stream",
          "text": [
            "<class 'pandas.core.frame.DataFrame'>\n",
            "Int64Index: 18968 entries, 32519164 to 32389144\n",
            "Data columns (total 2 columns):\n",
            " #   Column  Non-Null Count  Dtype \n",
            "---  ------  --------------  ----- \n",
            " 0   data    18968 non-null  object\n",
            " 1   label   18968 non-null  object\n",
            "dtypes: object(2)\n",
            "memory usage: 444.6+ KB\n"
          ]
        }
      ],
      "source": [
        "df_new_train = pd.DataFrame({'data' : [], 'label':[]})\n",
        "df_new_train[\"data\"] = df_train[\"title\"].astype(str) +\" \"+ df_train[\"abstract\"].astype(str) +\" \"+ df_train[\"keywords\"]\n",
        "df_new_train[\"label\"] = df_train[\"label\"]\n",
        "df_new_train.info()\n",
        "del [df_train] # free RAM"
      ]
    },
    {
      "cell_type": "code",
      "execution_count": null,
      "metadata": {
        "colab": {
          "base_uri": "https://localhost:8080/",
          "height": 175
        },
        "id": "jxlsp4pEzBzm",
        "outputId": "85912dd0-24dd-4485-bc92-0cc6bf560e06"
      },
      "outputs": [
        {
          "data": {
            "text/html": [
              "\n",
              "  <div id=\"df-c61950fe-69d1-4e01-a0eb-75816a7dd558\">\n",
              "    <div class=\"colab-df-container\">\n",
              "      <div>\n",
              "<style scoped>\n",
              "    .dataframe tbody tr th:only-of-type {\n",
              "        vertical-align: middle;\n",
              "    }\n",
              "\n",
              "    .dataframe tbody tr th {\n",
              "        vertical-align: top;\n",
              "    }\n",
              "\n",
              "    .dataframe thead th {\n",
              "        text-align: right;\n",
              "    }\n",
              "</style>\n",
              "<table border=\"1\" class=\"dataframe\">\n",
              "  <thead>\n",
              "    <tr style=\"text-align: right;\">\n",
              "      <th></th>\n",
              "      <th>journal</th>\n",
              "      <th>title</th>\n",
              "      <th>abstract</th>\n",
              "      <th>keywords</th>\n",
              "      <th>pub_type</th>\n",
              "      <th>authors</th>\n",
              "      <th>doi</th>\n",
              "      <th>label</th>\n",
              "    </tr>\n",
              "  </thead>\n",
              "  <tbody>\n",
              "    <tr>\n",
              "      <th>count</th>\n",
              "      <td>4754</td>\n",
              "      <td>4754</td>\n",
              "      <td>4754</td>\n",
              "      <td>4754</td>\n",
              "      <td>4754</td>\n",
              "      <td>4737</td>\n",
              "      <td>4707</td>\n",
              "      <td>4754</td>\n",
              "    </tr>\n",
              "    <tr>\n",
              "      <th>unique</th>\n",
              "      <td>1644</td>\n",
              "      <td>4751</td>\n",
              "      <td>4751</td>\n",
              "      <td>4714</td>\n",
              "      <td>141</td>\n",
              "      <td>4723</td>\n",
              "      <td>4707</td>\n",
              "      <td>88</td>\n",
              "    </tr>\n",
              "    <tr>\n",
              "      <th>top</th>\n",
              "      <td>J Med Virol</td>\n",
              "      <td>triag consider refer structur heart intervent ...</td>\n",
              "      <td>ha markedli chang practic articl analys risk c...</td>\n",
              "      <td></td>\n",
              "      <td>Journal Article</td>\n",
              "      <td>Siddiqui, Ruqaiyyah;Khan, Naveed Ahmed</td>\n",
              "      <td>10.3390/jcm9092943</td>\n",
              "      <td>[Prevention]</td>\n",
              "    </tr>\n",
              "    <tr>\n",
              "      <th>freq</th>\n",
              "      <td>103</td>\n",
              "      <td>2</td>\n",
              "      <td>2</td>\n",
              "      <td>7</td>\n",
              "      <td>2378</td>\n",
              "      <td>3</td>\n",
              "      <td>1</td>\n",
              "      <td>1713</td>\n",
              "    </tr>\n",
              "  </tbody>\n",
              "</table>\n",
              "</div>\n",
              "      <button class=\"colab-df-convert\" onclick=\"convertToInteractive('df-c61950fe-69d1-4e01-a0eb-75816a7dd558')\"\n",
              "              title=\"Convert this dataframe to an interactive table.\"\n",
              "              style=\"display:none;\">\n",
              "        \n",
              "  <svg xmlns=\"http://www.w3.org/2000/svg\" height=\"24px\"viewBox=\"0 0 24 24\"\n",
              "       width=\"24px\">\n",
              "    <path d=\"M0 0h24v24H0V0z\" fill=\"none\"/>\n",
              "    <path d=\"M18.56 5.44l.94 2.06.94-2.06 2.06-.94-2.06-.94-.94-2.06-.94 2.06-2.06.94zm-11 1L8.5 8.5l.94-2.06 2.06-.94-2.06-.94L8.5 2.5l-.94 2.06-2.06.94zm10 10l.94 2.06.94-2.06 2.06-.94-2.06-.94-.94-2.06-.94 2.06-2.06.94z\"/><path d=\"M17.41 7.96l-1.37-1.37c-.4-.4-.92-.59-1.43-.59-.52 0-1.04.2-1.43.59L10.3 9.45l-7.72 7.72c-.78.78-.78 2.05 0 2.83L4 21.41c.39.39.9.59 1.41.59.51 0 1.02-.2 1.41-.59l7.78-7.78 2.81-2.81c.8-.78.8-2.07 0-2.86zM5.41 20L4 18.59l7.72-7.72 1.47 1.35L5.41 20z\"/>\n",
              "  </svg>\n",
              "      </button>\n",
              "      \n",
              "  <style>\n",
              "    .colab-df-container {\n",
              "      display:flex;\n",
              "      flex-wrap:wrap;\n",
              "      gap: 12px;\n",
              "    }\n",
              "\n",
              "    .colab-df-convert {\n",
              "      background-color: #E8F0FE;\n",
              "      border: none;\n",
              "      border-radius: 50%;\n",
              "      cursor: pointer;\n",
              "      display: none;\n",
              "      fill: #1967D2;\n",
              "      height: 32px;\n",
              "      padding: 0 0 0 0;\n",
              "      width: 32px;\n",
              "    }\n",
              "\n",
              "    .colab-df-convert:hover {\n",
              "      background-color: #E2EBFA;\n",
              "      box-shadow: 0px 1px 2px rgba(60, 64, 67, 0.3), 0px 1px 3px 1px rgba(60, 64, 67, 0.15);\n",
              "      fill: #174EA6;\n",
              "    }\n",
              "\n",
              "    [theme=dark] .colab-df-convert {\n",
              "      background-color: #3B4455;\n",
              "      fill: #D2E3FC;\n",
              "    }\n",
              "\n",
              "    [theme=dark] .colab-df-convert:hover {\n",
              "      background-color: #434B5C;\n",
              "      box-shadow: 0px 1px 3px 1px rgba(0, 0, 0, 0.15);\n",
              "      filter: drop-shadow(0px 1px 2px rgba(0, 0, 0, 0.3));\n",
              "      fill: #FFFFFF;\n",
              "    }\n",
              "  </style>\n",
              "\n",
              "      <script>\n",
              "        const buttonEl =\n",
              "          document.querySelector('#df-c61950fe-69d1-4e01-a0eb-75816a7dd558 button.colab-df-convert');\n",
              "        buttonEl.style.display =\n",
              "          google.colab.kernel.accessAllowed ? 'block' : 'none';\n",
              "\n",
              "        async function convertToInteractive(key) {\n",
              "          const element = document.querySelector('#df-c61950fe-69d1-4e01-a0eb-75816a7dd558');\n",
              "          const dataTable =\n",
              "            await google.colab.kernel.invokeFunction('convertToInteractive',\n",
              "                                                     [key], {});\n",
              "          if (!dataTable) return;\n",
              "\n",
              "          const docLinkHtml = 'Like what you see? Visit the ' +\n",
              "            '<a target=\"_blank\" href=https://colab.research.google.com/notebooks/data_table.ipynb>data table notebook</a>'\n",
              "            + ' to learn more about interactive tables.';\n",
              "          element.innerHTML = '';\n",
              "          dataTable['output_type'] = 'display_data';\n",
              "          await google.colab.output.renderOutput(dataTable, element);\n",
              "          const docLink = document.createElement('div');\n",
              "          docLink.innerHTML = docLinkHtml;\n",
              "          element.appendChild(docLink);\n",
              "        }\n",
              "      </script>\n",
              "    </div>\n",
              "  </div>\n",
              "  "
            ],
            "text/plain": [
              "            journal  ...         label\n",
              "count          4754  ...          4754\n",
              "unique         1644  ...            88\n",
              "top     J Med Virol  ...  [Prevention]\n",
              "freq            103  ...          1713\n",
              "\n",
              "[4 rows x 8 columns]"
            ]
          },
          "execution_count": 7,
          "metadata": {},
          "output_type": "execute_result"
        }
      ],
      "source": [
        "# PREPROCESS DEV DATA\n",
        "df_dev.dropna(subset=['title', 'abstract', 'keywords'],inplace=True)  \n",
        "stop_words = stopwords.words('english')\n",
        "text_columns = df_dev.columns\n",
        "df_dev['keywords'] = df_dev['keywords'].apply(lambda x: x.split(';'))\n",
        "df_dev['label'] = df_dev['label'].apply(lambda x: x.split(';'))\n",
        "for col in ['title', 'abstract', 'keywords']:\n",
        "    df_dev[col] = df_dev[col].apply(preprocess_text)\n",
        "    df_dev[col] = df_dev[col].apply(stemming)  # todo either lemmatization or stemming\n",
        "    df_dev[col] = df_dev[col].apply(lambda x: clean_and_tokenize(x, stop_words))\n",
        "    frequent_words = find_frequent_words(df_dev[col])\n",
        "    df_dev[col] = df_dev[col].apply(lambda x: remove_frequent_words(x, frequent_words))# why?\n",
        "    df_dev[col] = df_dev[col].apply(lambda x: ' '.join(x))\n",
        "df_dev.describe(include='all')\n"
      ]
    },
    {
      "cell_type": "code",
      "execution_count": null,
      "metadata": {
        "colab": {
          "base_uri": "https://localhost:8080/"
        },
        "id": "4iS_7B_c1pe9",
        "outputId": "506641b5-8ac6-493a-ff48-ad3abe660a3d"
      },
      "outputs": [
        {
          "name": "stdout",
          "output_type": "stream",
          "text": [
            "<class 'pandas.core.frame.DataFrame'>\n",
            "Int64Index: 4754 entries, 32653511 to 32781167\n",
            "Data columns (total 2 columns):\n",
            " #   Column  Non-Null Count  Dtype \n",
            "---  ------  --------------  ----- \n",
            " 0   data    4754 non-null   object\n",
            " 1   label   4754 non-null   object\n",
            "dtypes: object(2)\n",
            "memory usage: 111.4+ KB\n"
          ]
        }
      ],
      "source": [
        "df_new_dev = pd.DataFrame({'data' : [], 'label':[]})\n",
        "df_new_dev[\"data\"] = df_dev[\"title\"].astype(str) +\" \"+ df_dev[\"abstract\"].astype(str) +\" \"+ df_dev[\"keywords\"]\n",
        "df_new_dev[\"label\"] = df_dev[\"label\"]\n",
        "df_new_dev.info()\n",
        "del [df_dev] # free RAM"
      ]
    },
    {
      "cell_type": "code",
      "execution_count": null,
      "metadata": {
        "colab": {
          "base_uri": "https://localhost:8080/"
        },
        "id": "UXIS0gDJzB3p",
        "outputId": "7051dd40-16af-4816-a281-997e1349f96f"
      },
      "outputs": [
        {
          "name": "stdout",
          "output_type": "stream",
          "text": [
            "(18968, 64807)\n",
            "(4754, 64807)\n"
          ]
        }
      ],
      "source": [
        "count_vector = CountVectorizer()\n",
        "X_train_counts =  count_vector.fit_transform(df_new_train['data'])\n",
        "X_dev_counts =  count_vector.transform(df_new_dev['data'])\n",
        "print(X_train_counts.toarray().shape)\n",
        "print(X_dev_counts.toarray().shape)"
      ]
    },
    {
      "cell_type": "code",
      "execution_count": null,
      "metadata": {
        "colab": {
          "base_uri": "https://localhost:8080/"
        },
        "id": "3QIwXyRd9sKm",
        "outputId": "a5b130ff-4af4-4ec9-963a-b2a6c1e4676d"
      },
      "outputs": [
        {
          "name": "stdout",
          "output_type": "stream",
          "text": [
            "(18968, 64807)\n",
            "(4754, 64807)\n"
          ]
        }
      ],
      "source": [
        "tfidf_transformer = TfidfTransformer()\n",
        "X_train_tf_idf = tfidf_transformer.fit_transform(X_train_counts)\n",
        "X_dev_tf_idf = tfidf_transformer.transform(X_dev_counts)\n",
        "print(X_train_tf_idf.toarray().shape)\n",
        "print(X_dev_tf_idf.toarray().shape)"
      ]
    },
    {
      "cell_type": "code",
      "execution_count": null,
      "metadata": {
        "colab": {
          "base_uri": "https://localhost:8080/"
        },
        "id": "5NSS0O_neZz1",
        "outputId": "6e76d603-76f1-4139-9ac2-1a273dba1a10"
      },
      "outputs": [
        {
          "data": {
            "text/plain": [
              "scipy.sparse.csr.csr_matrix"
            ]
          },
          "execution_count": 11,
          "metadata": {},
          "output_type": "execute_result"
        }
      ],
      "source": [
        "type(X_train_tf_idf)\n"
      ]
    },
    {
      "cell_type": "code",
      "execution_count": null,
      "metadata": {
        "colab": {
          "base_uri": "https://localhost:8080/"
        },
        "id": "Pq5cIjSQzCAC",
        "outputId": "e976dc62-9814-45cf-8b9f-897da7cc0b69"
      },
      "outputs": [
        {
          "name": "stdout",
          "output_type": "stream",
          "text": [
            "(18968, 7)\n",
            "(4754, 7)\n"
          ]
        }
      ],
      "source": [
        "mlb = MultiLabelBinarizer() \n",
        "Y_train = mlb.fit_transform(df_new_train['label'])\n",
        "Y_dev = mlb.fit_transform(df_new_dev['label'])\n",
        "print(Y_train.shape)\n",
        "print(Y_dev.shape)"
      ]
    },
    {
      "cell_type": "code",
      "execution_count": null,
      "metadata": {
        "id": "UUkJxjLRzCB2"
      },
      "outputs": [],
      "source": [
        "model = MultiOutputClassifier(KNeighborsClassifier(n_neighbors=5))\n",
        "KNN = model.fit(X_train_tf_idf,Y_train)"
      ]
    },
    {
      "cell_type": "code",
      "execution_count": null,
      "metadata": {
        "id": "K-SS2SAdzCD8"
      },
      "outputs": [],
      "source": [
        "Y_dev_pred = KNN.predict(X_dev_tf_idf)\n",
        "Y_dev_true = Y_dev"
      ]
    },
    {
      "cell_type": "code",
      "execution_count": null,
      "metadata": {
        "id": "kvIkSfyc7qwc"
      },
      "outputs": [],
      "source": [
        "cf_mtx = multilabel_confusion_matrix(Y_dev_true, Y_dev_pred)"
      ]
    },
    {
      "cell_type": "code",
      "execution_count": null,
      "metadata": {
        "colab": {
          "base_uri": "https://localhost:8080/"
        },
        "id": "ef_LRLKr7qmw",
        "outputId": "195433c6-33b4-4ce3-ad29-ccf5c3a2e6c0"
      },
      "outputs": [
        {
          "name": "stdout",
          "output_type": "stream",
          "text": [
            "Case Report\n",
            "[[4332   58]\n",
            " [ 239  125]]\n",
            "Diagnosis\n",
            "[[3276  288]\n",
            " [ 332  858]]\n",
            "Epidemic Forecasting\n",
            "[[4559   38]\n",
            " [  56  101]]\n",
            "Mechanism\n",
            "[[3797  129]\n",
            " [ 226  602]]\n",
            "Prevention\n",
            "[[2432  237]\n",
            " [ 294 1791]]\n",
            "Transmission\n",
            "[[4508   61]\n",
            " [ 112   73]]\n",
            "Treatment\n",
            "[[2740  333]\n",
            " [ 329 1352]]\n"
          ]
        }
      ],
      "source": [
        "# CONFUSION MATRIXES\n",
        "for i,submatrix in enumerate(cf_mtx):\n",
        "  print(mlb.classes_[i])\n",
        "  print(submatrix)"
      ]
    },
    {
      "cell_type": "code",
      "execution_count": null,
      "metadata": {
        "id": "CL6JDgPleO6q"
      },
      "outputs": [],
      "source": [
        "classes = {'Treatment': 0, 'Diagnosis':0, 'Prevention':0, 'Mechanism':0, 'Transmission':0, 'Epidemic Forecasting':0,  'Case Report':0}\n",
        "eval = {}\n",
        "for metric in ['precision', 'recall', 'f1-score' , 'support']:\n",
        "  eval[metric] = classes.copy()\n"
      ]
    },
    {
      "cell_type": "code",
      "execution_count": null,
      "metadata": {
        "colab": {
          "base_uri": "https://localhost:8080/"
        },
        "id": "MUen3qZcNSZw",
        "outputId": "75b049ee-67f6-4da1-b54a-6b8eb1a56cd9"
      },
      "outputs": [
        {
          "name": "stdout",
          "output_type": "stream",
          "text": [
            "Case Report\n",
            "0.9375262936474548\n",
            "Diagnosis\n",
            "0.8695835086243163\n",
            "Epidemic Forecasting\n",
            "0.9802271771140093\n",
            "Mechanism\n",
            "0.9253260412284392\n",
            "Prevention\n",
            "0.8883045856121161\n",
            "Transmission\n",
            "0.9636095919225915\n",
            "Treatment\n",
            "0.8607488430795119\n"
          ]
        }
      ],
      "source": [
        "# ACCURACY\n",
        "for i,submatrix in enumerate(cf_mtx):\n",
        "    print(mlb.classes_[i])\n",
        "    print((submatrix[0][0] + submatrix[1][1]) / (submatrix[0][0]+submatrix[1][0]+submatrix[0][1]+submatrix[1][1]))\n"
      ]
    },
    {
      "cell_type": "code",
      "execution_count": null,
      "metadata": {
        "colab": {
          "base_uri": "https://localhost:8080/"
        },
        "id": "S1Se4-ipNSXo",
        "outputId": "c94963cc-2d09-46b3-c0c7-673cc137dd50"
      },
      "outputs": [
        {
          "name": "stdout",
          "output_type": "stream",
          "text": [
            "Case Report\n",
            "0.9867881548974943\n",
            "Diagnosis\n",
            "0.9191919191919192\n",
            "Epidemic Forecasting\n",
            "0.9917337393952578\n",
            "Mechanism\n",
            "0.9671421293937851\n",
            "Prevention\n",
            "0.9112026976395654\n",
            "Transmission\n",
            "0.98664915736485\n",
            "Treatment\n",
            "0.8916368369671331\n",
            "Mean\n",
            "0.9506206621214293\n",
            "{'precision': {'Treatment': 0.8916, 'Diagnosis': 0.9192, 'Prevention': 0.9112, 'Mechanism': 0.9671, 'Transmission': 0.9866, 'Epidemic Forecasting': 0.9917, 'Case Report': 0.9868}, 'recall': {'Treatment': 0, 'Diagnosis': 0, 'Prevention': 0, 'Mechanism': 0, 'Transmission': 0, 'Epidemic Forecasting': 0, 'Case Report': 0}, 'f1-score': {'Treatment': 0, 'Diagnosis': 0, 'Prevention': 0, 'Mechanism': 0, 'Transmission': 0, 'Epidemic Forecasting': 0, 'Case Report': 0}, 'support': {'Treatment': 0, 'Diagnosis': 0, 'Prevention': 0, 'Mechanism': 0, 'Transmission': 0, 'Epidemic Forecasting': 0, 'Case Report': 0}}\n"
          ]
        }
      ],
      "source": [
        "# PRECISION \n",
        "precisions = {mlb.classes_[i]:submatrix[0][0]/(submatrix[0][0]+submatrix[0][1]) for i,submatrix in  enumerate(cf_mtx)}\n",
        "sumx=0\n",
        "for key,val in precisions.items():\n",
        "    sumx +=val\n",
        "    print(key)\n",
        "    print(val)\n",
        "    eval['precision'][key] = float(\"{:.4f}\".format(val))\n",
        "print(\"Mean\")\n",
        "print(sumx/len(cf_mtx))\n",
        "print(eval)"
      ]
    },
    {
      "cell_type": "code",
      "execution_count": null,
      "metadata": {
        "colab": {
          "base_uri": "https://localhost:8080/"
        },
        "id": "HHlAHMd6NSVX",
        "outputId": "79165d6c-0737-440d-d639-f769a36f7cc8"
      },
      "outputs": [
        {
          "name": "stdout",
          "output_type": "stream",
          "text": [
            "Case Report\n",
            "0.9477138481732662\n",
            "Diagnosis\n",
            "0.9079822616407982\n",
            "Epidemic Forecasting\n",
            "0.9878656554712892\n",
            "Mechanism\n",
            "0.9438230176485211\n",
            "Prevention\n",
            "0.8921496698459281\n",
            "Transmission\n",
            "0.9757575757575757\n",
            "Treatment\n",
            "0.8927989573150863\n",
            "Mean\n",
            "0.935441569407495\n"
          ]
        }
      ],
      "source": [
        "# RECALL \n",
        "recalls = {mlb.classes_[i]:submatrix[0][0]/(submatrix[0][0]+submatrix[1][0]) for i,submatrix in  enumerate(cf_mtx)}\n",
        "sumx = 0\n",
        "for key,val in recalls.items():\n",
        "    sumx +=val\n",
        "    print(key)\n",
        "    print(val)\n",
        "    eval['recall'][key] = float(\"{:.4f}\".format(val))\n",
        "\n",
        "print(\"Mean\")\n",
        "print(sumx/len(cf_mtx))"
      ]
    },
    {
      "cell_type": "code",
      "execution_count": null,
      "metadata": {
        "colab": {
          "base_uri": "https://localhost:8080/"
        },
        "id": "YNJ1jOqsNSTK",
        "outputId": "dc977d27-e806-4210-ffbe-6f80865dac28"
      },
      "outputs": [
        {
          "name": "stdout",
          "output_type": "stream",
          "text": [
            "Case Report\n",
            "0.9668563776364244\n",
            "Diagnosis\n",
            "0.9135527049637479\n",
            "Epidemic Forecasting\n",
            "0.989795918367347\n",
            "Mechanism\n",
            "0.9553402943766511\n",
            "Prevention\n",
            "0.9015755329008341\n",
            "Transmission\n",
            "0.9811731417999783\n",
            "Treatment\n",
            "0.8922175187235428\n"
          ]
        }
      ],
      "source": [
        "# F1\n",
        "f_1s = {label:2*(recalls[label]*precisions[label])/(recalls[label]+precisions[label]) for label in mlb.classes_}\n",
        "for key,val in f_1s.items():\n",
        "    print(key)\n",
        "    print(val)\n",
        "    eval['f1-score'][key] = float(\"{:.4f}\".format(val))\n"
      ]
    },
    {
      "cell_type": "code",
      "execution_count": null,
      "metadata": {
        "colab": {
          "base_uri": "https://localhost:8080/"
        },
        "id": "VOL_3qzrNSRE",
        "outputId": "142bc89b-f163-4e07-b5e8-d4b8ae91aa9a"
      },
      "outputs": [
        {
          "name": "stdout",
          "output_type": "stream",
          "text": [
            "MACRO_AVERAGE: \n",
            "0.9506206621214293\n",
            "MICRO_AVERAGE: \n",
            "0.9416862514688602\n"
          ]
        }
      ],
      "source": [
        "# AVERAGES\n",
        "print(\"MACRO_AVERAGE: \")\n",
        "print(sum(precisions.values())/len(precisions))\n",
        "print(\"MICRO_AVERAGE: \")\n",
        "print(sum(x[0][0] for x in cf_mtx) / sum(x[0][0]+x[1][0] for x in cf_mtx))"
      ]
    },
    {
      "cell_type": "code",
      "execution_count": null,
      "metadata": {
        "id": "d41-FRHaVlCA"
      },
      "outputs": [],
      "source": [
        "pd.DataFrame(Y_dev_pred).to_csv(\"test_predictions.csv\", header = mlb.classes_)\n",
        "pd.DataFrame(Y_dev_true).to_csv(\"test_true.csv\", header = mlb.classes_)"
      ]
    },
    {
      "cell_type": "code",
      "execution_count": null,
      "metadata": {
        "id": "zGIRCtCtWElb"
      },
      "outputs": [],
      "source": [
        "import csv\n",
        "with open('test_predictions.csv', 'r') as infile, open('reordered_test_predictions.csv', 'a') as outfile:\n",
        "    # output dict needs a list for new column ordering\n",
        "    fieldnames = [\"\",\"Treatment\",\"Diagnosis\",\"Prevention\",\"Mechanism\",\"Transmission\",\"Epidemic Forecasting\",\"Case Report\"]\n",
        "    writer = csv.DictWriter(outfile, fieldnames=fieldnames)\n",
        "    # reorder the header first\n",
        "    writer.writeheader()\n",
        "    for row in csv.DictReader(infile):\n",
        "        # writes the reordered rows to the new file\n",
        "        writer.writerow(row)"
      ]
    },
    {
      "cell_type": "code",
      "execution_count": null,
      "metadata": {
        "id": "5GrXF2uKWYwb"
      },
      "outputs": [],
      "source": [
        "with open('test_true.csv', 'r') as infile, open('reordered_test_true.csv', 'a') as outfile:\n",
        "    # output dict needs a list for new column ordering\n",
        "    fieldnames = [\"\",\"Treatment\",\"Diagnosis\",\"Prevention\",\"Mechanism\",\"Transmission\",\"Epidemic Forecasting\",\"Case Report\"]\n",
        "    writer = csv.DictWriter(outfile, fieldnames=fieldnames)\n",
        "    # reorder the header first\n",
        "    writer.writeheader()\n",
        "    for row in csv.DictReader(infile):\n",
        "        # writes the reordered rows to the new file\n",
        "        writer.writerow(row)"
      ]
    }
  ],
  "metadata": {
    "colab": {
      "collapsed_sections": [],
      "name": "knn.ipynb",
      "provenance": []
    },
    "kernelspec": {
      "display_name": "Python 3",
      "name": "python3"
    },
    "language_info": {
      "name": "python"
    }
  },
  "nbformat": 4,
  "nbformat_minor": 0
}
